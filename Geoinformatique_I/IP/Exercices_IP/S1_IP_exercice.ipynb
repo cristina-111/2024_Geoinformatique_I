{
  "cells": [
    {
      "cell_type": "markdown",
      "metadata": {
        "id": "view-in-github",
        "colab_type": "text"
      },
      "source": [
        "<a href=\"https://colab.research.google.com/github/cristina-111/2024_Geoinformatique_I/blob/main/Geoinformatique_I/IP/Exercices_IP/S1_IP_exercice.ipynb\" target=\"_parent\"><img src=\"https://colab.research.google.com/assets/colab-badge.svg\" alt=\"Open In Colab\"/></a>"
      ]
    },
    {
      "cell_type": "markdown",
      "metadata": {
        "id": "a4H9Gb41nLo-"
      },
      "source": [
        "## Exercice 1 - Introduction aux bases de la programmation"
      ]
    },
    {
      "cell_type": "markdown",
      "metadata": {
        "id": "G79m62HcnLo_"
      },
      "source": [
        "### Premier code de Python :\n",
        "\n",
        "Utiliser la fonction \"print()\" pour afficher le texte \"Hello world\"."
      ]
    },
    {
      "cell_type": "code",
      "execution_count": 40,
      "metadata": {
        "id": "6acDX_-_nLpC",
        "outputId": "86f86cd4-018a-4bf4-9c34-3936fa1bf224",
        "colab": {
          "base_uri": "https://localhost:8080/"
        }
      },
      "outputs": [
        {
          "output_type": "stream",
          "name": "stdout",
          "text": [
            "Hello word\n"
          ]
        }
      ],
      "source": [
        "# Premier script : \"Hello world\"\n",
        "print(\"Hello word\")"
      ]
    },
    {
      "cell_type": "markdown",
      "metadata": {
        "id": "u8mSrLqxnLpE"
      },
      "source": [
        "### Variables et types de données :\n"
      ]
    },
    {
      "cell_type": "code",
      "execution_count": 39,
      "metadata": {
        "id": "QBu-r7EFnLpF"
      },
      "outputs": [],
      "source": [
        "# Initialiser des données\n",
        "\n",
        "x = 10    # Remplacer par une valeur entière (integer)\n",
        "y = 15    # Remplacer par une valeur décimale (float)\n",
        "z = \"20\"  # Remplacer par une chaîne de caractères. Par exemple \"Python\""
      ]
    },
    {
      "cell_type": "markdown",
      "metadata": {
        "id": "PJc99DALnLpG"
      },
      "source": [
        "Maintenant vérifions le type de ces variables à l'aide de la fonction \"type()\""
      ]
    },
    {
      "cell_type": "code",
      "execution_count": 42,
      "metadata": {
        "id": "WDrvtjv2nLpG",
        "outputId": "8c07aba8-5e1a-4235-ac25-71382c1a7839",
        "colab": {
          "base_uri": "https://localhost:8080/"
        }
      },
      "outputs": [
        {
          "output_type": "stream",
          "name": "stdout",
          "text": [
            "<class 'int'>\n",
            "<class 'int'>\n",
            "<class 'str'>\n"
          ]
        }
      ],
      "source": [
        "# Comment vérifier le type ?\n",
        "print(type(x))  # Affiche le type de x\n",
        "print(type(y))  # Affiche le type de y\n",
        "print(type(z))  # Affiche le type de z"
      ]
    },
    {
      "cell_type": "markdown",
      "metadata": {
        "id": "T1V0f27onLpH"
      },
      "source": [
        "### Opérations arithmétiques :"
      ]
    },
    {
      "cell_type": "code",
      "execution_count": null,
      "metadata": {
        "id": "iXXDA3-JnLpI"
      },
      "outputs": [],
      "source": [
        "a = 12  # Remplacer par une valeur entière\n",
        "b = 14  # Remplacer par une valeur entière"
      ]
    },
    {
      "cell_type": "code",
      "execution_count": 43,
      "metadata": {
        "id": "Is2kTg-7nLpI"
      },
      "outputs": [],
      "source": [
        "# Opérations arithmétiques\n",
        "addition = a + b  # Calcul de l'addition\n",
        "soustraction = a - b  # Calcul de la soustraction entre a et b\n",
        "multiplication = a * b  # Calcul de la multiplication entre a et b\n",
        "division = a / b  # Calcul de la division de a par b"
      ]
    },
    {
      "cell_type": "code",
      "execution_count": 45,
      "metadata": {
        "id": "n7_BQYBanLpJ",
        "outputId": "db850341-db91-4284-df03-417c83327eba",
        "colab": {
          "base_uri": "https://localhost:8080/",
          "height": 105
        }
      },
      "outputs": [
        {
          "output_type": "error",
          "ename": "SyntaxError",
          "evalue": "invalid syntax (<ipython-input-45-2908a0c8fc15>, line 2)",
          "traceback": [
            "\u001b[0;36m  File \u001b[0;32m\"<ipython-input-45-2908a0c8fc15>\"\u001b[0;36m, line \u001b[0;32m2\u001b[0m\n\u001b[0;31m    print(\"Addition:\",+)\u001b[0m\n\u001b[0m                       ^\u001b[0m\n\u001b[0;31mSyntaxError\u001b[0m\u001b[0;31m:\u001b[0m invalid syntax\n"
          ]
        }
      ],
      "source": [
        "# Afficher les résultats\n",
        "print(\"Addition:\", +)\n",
        "print(\"Soustraction:\", -)\n",
        "print(\"Multiplication:\", *)\n",
        "print(\"Division:\", /)\n"
      ]
    },
    {
      "cell_type": "markdown",
      "metadata": {
        "id": "VXsb00dpnLpJ"
      },
      "source": [
        "### Calcul d'émissions de CO2 :"
      ]
    },
    {
      "cell_type": "code",
      "execution_count": 48,
      "metadata": {
        "id": "o-v8FPXOnLpJ"
      },
      "outputs": [],
      "source": [
        "# Données\n",
        "distance_km = 20  # Distance parcourue en kilomètres\n",
        "consommation_essence_litres_km = 3  # Consommation d'essence en litres par km"
      ]
    },
    {
      "cell_type": "code",
      "execution_count": 47,
      "metadata": {
        "id": "WvCqQV44nLpK"
      },
      "outputs": [],
      "source": [
        "# Calcul des émissions de CO2 en kilogrammes\n",
        "# Le facteur 2,3 est une estimation générale de la quantité de dioxyde de carbone (CO2) émise en kilogrammes par litre de carburant brûlé.\n",
        "# Il est utilisé pour convertir la consommation d'essence en émissions de CO2.\n",
        "emissions_CO2_kg = (20 * 3) * 2.3"
      ]
    },
    {
      "cell_type": "code",
      "execution_count": 46,
      "metadata": {
        "id": "bGnGt39ynLpK",
        "outputId": "dcb7ff62-7be6-47b9-dc6b-3dde8f57d4e3",
        "colab": {
          "base_uri": "https://localhost:8080/"
        }
      },
      "outputs": [
        {
          "output_type": "stream",
          "name": "stdout",
          "text": [
            "Les émissions de CO2 pour 20 km parcourus sont de 138 grammes.\n"
          ]
        }
      ],
      "source": [
        "# Afficher le résultat\n",
        "print(\"Les émissions de CO2 pour\", 20, \"km parcourus sont de\", 138, \"grammes.\")"
      ]
    },
    {
      "cell_type": "markdown",
      "metadata": {
        "id": "q-bZszADnLpK"
      },
      "source": [
        "### Calcul de la consommation d'énergie"
      ]
    },
    {
      "cell_type": "code",
      "execution_count": 50,
      "metadata": {
        "id": "XtXC6cGUnLpK",
        "outputId": "a58e1617-afcc-4af7-e8bd-ff2baf721aa0",
        "colab": {
          "base_uri": "https://localhost:8080/",
          "height": 173
        }
      },
      "outputs": [
        {
          "output_type": "error",
          "ename": "NameError",
          "evalue": "name 'W' is not defined",
          "traceback": [
            "\u001b[0;31m---------------------------------------------------------------------------\u001b[0m",
            "\u001b[0;31mNameError\u001b[0m                                 Traceback (most recent call last)",
            "\u001b[0;32m<ipython-input-50-b942f54aaa7c>\u001b[0m in \u001b[0;36m<cell line: 2>\u001b[0;34m()\u001b[0m\n\u001b[1;32m      1\u001b[0m \u001b[0;31m# Données\u001b[0m\u001b[0;34m\u001b[0m\u001b[0;34m\u001b[0m\u001b[0m\n\u001b[0;32m----> 2\u001b[0;31m \u001b[0mpuissance_appareil\u001b[0m \u001b[0;34m=\u001b[0m \u001b[0mW\u001b[0m  \u001b[0;31m# Puissance de l'appareil en watts\u001b[0m\u001b[0;34m\u001b[0m\u001b[0;34m\u001b[0m\u001b[0m\n\u001b[0m\u001b[1;32m      3\u001b[0m \u001b[0mtemps_utilisation_heures\u001b[0m \u001b[0;34m=\u001b[0m \u001b[0;36m24\u001b[0m  \u001b[0;31m# Temps d'utilisation en heures par jour\u001b[0m\u001b[0;34m\u001b[0m\u001b[0;34m\u001b[0m\u001b[0m\n",
            "\u001b[0;31mNameError\u001b[0m: name 'W' is not defined"
          ]
        }
      ],
      "source": [
        "# Données\n",
        "puissance_appareil = W  # Puissance de l'appareil en watts\n",
        "temps_utilisation_heures = 24  # Temps d'utilisation en heures par jour"
      ]
    },
    {
      "cell_type": "code",
      "execution_count": 51,
      "metadata": {
        "id": "_V2F75BWnLpL"
      },
      "outputs": [],
      "source": [
        "# Calcul de la consommation d'énergie quotidienne en kilowatt-heures (kWh)\n",
        "# La division par 1000 est nécessaire pour convertir la puissance de l'appareil (exprimée en watts) en kilowatts,\n",
        "# car 1 kilowatt équivaut à 1000 watts.\n",
        "consommation_quotidienne_kWh = (20 * 2.3) / 1000"
      ]
    },
    {
      "cell_type": "code",
      "execution_count": 52,
      "metadata": {
        "id": "gbXyVo-ZnLpL",
        "outputId": "21c029ea-9622-4e86-e35c-84d3cd6f1283",
        "colab": {
          "base_uri": "https://localhost:8080/"
        }
      },
      "outputs": [
        {
          "output_type": "stream",
          "name": "stdout",
          "text": [
            "La consommation d'énergie quotidienne de l'appareil est de 0.046 kWh.\n"
          ]
        }
      ],
      "source": [
        "# Afficher le résultat\n",
        "print(\"La consommation d'énergie quotidienne de l'appareil est de\", 0.046, \"kWh.\")"
      ]
    }
  ],
  "metadata": {
    "colab": {
      "provenance": [],
      "include_colab_link": true
    },
    "language_info": {
      "name": "python"
    },
    "kernelspec": {
      "name": "python3",
      "display_name": "Python 3"
    }
  },
  "nbformat": 4,
  "nbformat_minor": 0
}